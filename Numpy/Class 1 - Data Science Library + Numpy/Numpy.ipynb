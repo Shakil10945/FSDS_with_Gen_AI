{
 "cells": [
  {
   "cell_type": "code",
   "execution_count": 4,
   "id": "a510d1fb-1760-48ec-8701-006113663d51",
   "metadata": {},
   "outputs": [],
   "source": [
    "import numpy as np   #alias"
   ]
  },
  {
   "cell_type": "code",
   "execution_count": 6,
   "id": "6ca83aec-5108-4ac1-98f2-1eac653d382c",
   "metadata": {},
   "outputs": [],
   "source": [
    "l1 = [1,2,3]"
   ]
  },
  {
   "cell_type": "code",
   "execution_count": 8,
   "id": "7622f406-f9f3-4c25-be96-cf9c66bdb814",
   "metadata": {},
   "outputs": [],
   "source": [
    "l2 = [l1,l1]"
   ]
  },
  {
   "cell_type": "code",
   "execution_count": 10,
   "id": "b35aca11-643a-4eba-9b7d-dd0fda350b27",
   "metadata": {},
   "outputs": [
    {
     "data": {
      "text/plain": [
       "[1, 2, 3]"
      ]
     },
     "execution_count": 10,
     "metadata": {},
     "output_type": "execute_result"
    }
   ],
   "source": [
    "l1"
   ]
  },
  {
   "cell_type": "code",
   "execution_count": 14,
   "id": "7fdc53a0-b942-48b1-aadf-5230ebb7c6cb",
   "metadata": {},
   "outputs": [
    {
     "data": {
      "text/plain": [
       "[[1, 2, 3], [1, 2, 3]]"
      ]
     },
     "execution_count": 14,
     "metadata": {},
     "output_type": "execute_result"
    }
   ],
   "source": [
    "l2"
   ]
  },
  {
   "cell_type": "code",
   "execution_count": 30,
   "id": "aa3ee764-d4c6-4120-9c7c-708872aea0df",
   "metadata": {},
   "outputs": [
    {
     "data": {
      "text/plain": [
       "int"
      ]
     },
     "execution_count": 30,
     "metadata": {},
     "output_type": "execute_result"
    }
   ],
   "source": [
    "l3 = [1,\"abc\",1.5] #heterogenous\n",
    "\n",
    "\n",
    "type(l3[0])"
   ]
  },
  {
   "cell_type": "code",
   "execution_count": 38,
   "id": "f75ce862-4c13-4be0-ab0b-9ace671949dc",
   "metadata": {},
   "outputs": [
    {
     "data": {
      "text/plain": [
       "numpy.float64"
      ]
     },
     "execution_count": 38,
     "metadata": {},
     "output_type": "execute_result"
    }
   ],
   "source": [
    "n1 = np.array((1,2,3.5))\n",
    "\n",
    "type(n1[2])\n"
   ]
  },
  {
   "cell_type": "code",
   "execution_count": 50,
   "id": "4aa4cbb4-8e51-42e9-bb77-311d59a8cb0a",
   "metadata": {},
   "outputs": [],
   "source": [
    "n1 = np.array(('1',2,3.5))"
   ]
  },
  {
   "cell_type": "code",
   "execution_count": 48,
   "id": "7f163f9f-c411-4f97-913c-a305f6c3e133",
   "metadata": {},
   "outputs": [
    {
     "data": {
      "text/plain": [
       "array(['1', '2', '3.5'], dtype='<U32')"
      ]
     },
     "execution_count": 48,
     "metadata": {},
     "output_type": "execute_result"
    }
   ],
   "source": [
    "type(n1[0])\n",
    "n1"
   ]
  },
  {
   "cell_type": "code",
   "execution_count": null,
   "id": "6e2025b1-4ed1-4363-aefa-c8d1a4f10ce6",
   "metadata": {},
   "outputs": [],
   "source": [
    "np.array"
   ]
  },
  {
   "cell_type": "markdown",
   "id": "f1b661a4-351a-4686-911a-21bc4b44bb5b",
   "metadata": {},
   "source": [
    "# Creating Numpy arrays"
   ]
  },
  {
   "cell_type": "code",
   "execution_count": 54,
   "id": "65722697-5c3e-4474-875c-28bf5ad1f551",
   "metadata": {},
   "outputs": [
    {
     "data": {
      "text/plain": [
       "[1, 2, 3]"
      ]
     },
     "execution_count": 54,
     "metadata": {},
     "output_type": "execute_result"
    }
   ],
   "source": [
    "l1"
   ]
  },
  {
   "cell_type": "markdown",
   "id": "78603742-f4a5-4ffd-a980-ff72ec16d254",
   "metadata": {},
   "source": [
    "# 0-D Array"
   ]
  },
  {
   "cell_type": "code",
   "execution_count": 70,
   "id": "b15f59e2-a6d9-4b21-9f41-26e93825144b",
   "metadata": {},
   "outputs": [
    {
     "data": {
      "text/plain": [
       "(array(3), 0)"
      ]
     },
     "execution_count": 70,
     "metadata": {},
     "output_type": "execute_result"
    }
   ],
   "source": [
    "n0 = np.array(3)\n",
    "n0,n0.ndim"
   ]
  },
  {
   "cell_type": "code",
   "execution_count": 72,
   "id": "401cc2d1-ea33-4d1a-a8ba-f44c437bb813",
   "metadata": {},
   "outputs": [
    {
     "data": {
      "text/plain": [
       "(array([1, 2, 3]), 1)"
      ]
     },
     "execution_count": 72,
     "metadata": {},
     "output_type": "execute_result"
    }
   ],
   "source": [
    "n1 = np.array([1,2,3])\n",
    "n1,n1.ndim"
   ]
  },
  {
   "cell_type": "code",
   "execution_count": 76,
   "id": "41e416a6-aaf4-43fd-aa07-a42b3a41564f",
   "metadata": {},
   "outputs": [
    {
     "data": {
      "text/plain": [
       "(array([[1, 2, 3],\n",
       "        [4, 5, 6]]),\n",
       " 2)"
      ]
     },
     "execution_count": 76,
     "metadata": {},
     "output_type": "execute_result"
    }
   ],
   "source": [
    "n2 = np.array( [ [1,2,3] , [4,5,6] ]   )\n",
    "n2 , n2.ndim"
   ]
  },
  {
   "cell_type": "code",
   "execution_count": 84,
   "id": "9d265c15-5ee8-421a-ab70-031733d99200",
   "metadata": {},
   "outputs": [
    {
     "ename": "SyntaxError",
     "evalue": "closing parenthesis ')' does not match opening parenthesis '[' (1643454393.py, line 1)",
     "output_type": "error",
     "traceback": [
      "\u001b[0;36m  Cell \u001b[0;32mIn[84], line 1\u001b[0;36m\u001b[0m\n\u001b[0;31m    n3 = np.array( [ [[ 1,2,3],[4,5,6]]   , [[1,2,3] ])\u001b[0m\n\u001b[0m                                                      ^\u001b[0m\n\u001b[0;31mSyntaxError\u001b[0m\u001b[0;31m:\u001b[0m closing parenthesis ')' does not match opening parenthesis '['\n"
     ]
    }
   ],
   "source": [
    "n3 = np.array( [ [[ 1,2,3],[4,5,6]]   , [[1,2,3] ])\n",
    "n3,n3.ndim"
   ]
  },
  {
   "cell_type": "code",
   "execution_count": 82,
   "id": "acdd15d5-1e2a-4cfc-84d9-0cb809a871b9",
   "metadata": {},
   "outputs": [
    {
     "data": {
      "text/plain": [
       "(array([[[[1, 2, 3],\n",
       "          [4, 5, 6]],\n",
       " \n",
       "         [[1, 2, 3],\n",
       "          [4, 5, 6]]],\n",
       " \n",
       " \n",
       "        [[[1, 2, 3],\n",
       "          [4, 5, 6]],\n",
       " \n",
       "         [[1, 2, 3],\n",
       "          [4, 5, 6]]]]),\n",
       " 4)"
      ]
     },
     "execution_count": 82,
     "metadata": {},
     "output_type": "execute_result"
    }
   ],
   "source": [
    "n4 = np.array([n3,n3])\n",
    "\n",
    "n4,n4.ndim"
   ]
  },
  {
   "cell_type": "code",
   "execution_count": null,
   "id": "297d18f6-fd7e-440c-934a-76c780db161a",
   "metadata": {},
   "outputs": [],
   "source": []
  },
  {
   "cell_type": "markdown",
   "id": "0beee90f-6943-43a3-b767-f082f9674d97",
   "metadata": {},
   "source": [
    "# We can create a numpy arrays with Sequence/Iterable or an array like object."
   ]
  },
  {
   "cell_type": "markdown",
   "id": "ec10ff03-7e30-4877-9043-1924fe32fb4c",
   "metadata": {},
   "source": [
    "# How to specifiy the type of our resultant array."
   ]
  },
  {
   "cell_type": "code",
   "execution_count": null,
   "id": "3b9bff4a-039e-4004-803e-b1608cb6ec8c",
   "metadata": {},
   "outputs": [],
   "source": []
  },
  {
   "cell_type": "code",
   "execution_count": null,
   "id": "cc85592b-401c-461f-9b6a-311aa862463a",
   "metadata": {},
   "outputs": [],
   "source": []
  },
  {
   "cell_type": "code",
   "execution_count": 113,
   "id": "44bf3818-da68-4421-8164-bd8c7cde12ed",
   "metadata": {},
   "outputs": [
    {
     "data": {
      "text/plain": [
       "array([1, 2, 3], dtype=int32)"
      ]
     },
     "execution_count": 113,
     "metadata": {},
     "output_type": "execute_result"
    }
   ],
   "source": [
    "np.array([1,2,3],dtype=np.int32)"
   ]
  },
  {
   "cell_type": "code",
   "execution_count": 117,
   "id": "873df71a-007a-45d2-805f-d27401cb53dc",
   "metadata": {},
   "outputs": [
    {
     "data": {
      "text/plain": [
       "array([1, 2, 3], dtype=int32)"
      ]
     },
     "execution_count": 117,
     "metadata": {},
     "output_type": "execute_result"
    }
   ],
   "source": [
    "np.array(['1',2,3],dtype=np.int32)"
   ]
  },
  {
   "cell_type": "code",
   "execution_count": null,
   "id": "3d2f5be5-5c08-4c88-bfc7-99716bdd5dbf",
   "metadata": {},
   "outputs": [],
   "source": []
  },
  {
   "cell_type": "code",
   "execution_count": 121,
   "id": "b32dd5f5-e5ac-405c-bb4e-462b0fc8faff",
   "metadata": {},
   "outputs": [
    {
     "ename": "ValueError",
     "evalue": "invalid literal for int() with base 10: 'mayank'",
     "output_type": "error",
     "traceback": [
      "\u001b[0;31m---------------------------------------------------------------------------\u001b[0m",
      "\u001b[0;31mValueError\u001b[0m                                Traceback (most recent call last)",
      "Cell \u001b[0;32mIn[121], line 1\u001b[0m\n\u001b[0;32m----> 1\u001b[0m np\u001b[38;5;241m.\u001b[39marray([\u001b[38;5;124m'\u001b[39m\u001b[38;5;124mmayank\u001b[39m\u001b[38;5;124m'\u001b[39m,\u001b[38;5;241m2\u001b[39m,\u001b[38;5;241m3\u001b[39m],dtype\u001b[38;5;241m=\u001b[39mnp\u001b[38;5;241m.\u001b[39mint32)\n",
      "\u001b[0;31mValueError\u001b[0m: invalid literal for int() with base 10: 'mayank'"
     ]
    }
   ],
   "source": [
    "np.array(['mayank',2,3],dtype=np.int32)"
   ]
  },
  {
   "cell_type": "code",
   "execution_count": null,
   "id": "3d97f89f-25a0-4129-94d6-76cd5f80c97d",
   "metadata": {},
   "outputs": [],
   "source": []
  },
  {
   "cell_type": "code",
   "execution_count": 126,
   "id": "134a2965-641b-482e-9a7e-a92f93d8c203",
   "metadata": {},
   "outputs": [],
   "source": [
    "n1 = np.array((1,2,3,),dtype=str)"
   ]
  },
  {
   "cell_type": "code",
   "execution_count": 128,
   "id": "51c9c0f9-15fa-49d4-8823-441bfc7d15b4",
   "metadata": {},
   "outputs": [
    {
     "data": {
      "text/plain": [
       "numpy.ndarray"
      ]
     },
     "execution_count": 128,
     "metadata": {},
     "output_type": "execute_result"
    }
   ],
   "source": [
    "type(n1)"
   ]
  },
  {
   "cell_type": "code",
   "execution_count": 133,
   "id": "06cf049c-9756-4d0a-912b-88f5a6e2590b",
   "metadata": {},
   "outputs": [
    {
     "data": {
      "text/plain": [
       "array(['1', '2', '3'], dtype='<U1')"
      ]
     },
     "execution_count": 133,
     "metadata": {},
     "output_type": "execute_result"
    }
   ],
   "source": [
    "n1"
   ]
  },
  {
   "cell_type": "code",
   "execution_count": null,
   "id": "bae0bc65-30ee-4cc4-af3e-6235660f1695",
   "metadata": {},
   "outputs": [],
   "source": []
  },
  {
   "cell_type": "code",
   "execution_count": 138,
   "id": "3b435aec-64d9-4f0f-9737-2c5cd8f563b7",
   "metadata": {},
   "outputs": [
    {
     "data": {
      "text/plain": [
       "[0, 1, 2, 3]"
      ]
     },
     "execution_count": 138,
     "metadata": {},
     "output_type": "execute_result"
    }
   ],
   "source": [
    "list(range(0,4))"
   ]
  },
  {
   "cell_type": "code",
   "execution_count": 140,
   "id": "34ab0a7a-0d84-4ed4-bc4b-902a53058d73",
   "metadata": {},
   "outputs": [
    {
     "data": {
      "text/plain": [
       "[0, 2]"
      ]
     },
     "execution_count": 140,
     "metadata": {},
     "output_type": "execute_result"
    }
   ],
   "source": [
    "list(range(0,4,2))"
   ]
  },
  {
   "cell_type": "code",
   "execution_count": 142,
   "id": "a1844a29-3d0b-44ce-9479-2e7bf6306bdd",
   "metadata": {},
   "outputs": [
    {
     "data": {
      "text/plain": [
       "array([1, 2, 3, 4, 5, 6, 7, 8, 9])"
      ]
     },
     "execution_count": 142,
     "metadata": {},
     "output_type": "execute_result"
    }
   ],
   "source": [
    "np.array(list(range(1,10)))"
   ]
  },
  {
   "cell_type": "code",
   "execution_count": 146,
   "id": "0b84f734-d3d9-4f43-a539-79e4f5ac01f0",
   "metadata": {},
   "outputs": [
    {
     "data": {
      "text/plain": [
       "array([0, 1, 2, 3, 4, 5, 6, 7, 8, 9])"
      ]
     },
     "execution_count": 146,
     "metadata": {},
     "output_type": "execute_result"
    }
   ],
   "source": [
    "np.arange(0,10)"
   ]
  },
  {
   "cell_type": "code",
   "execution_count": null,
   "id": "855e3e3d-ebc6-4711-ab36-fe38a8807fcc",
   "metadata": {},
   "outputs": [],
   "source": []
  },
  {
   "cell_type": "code",
   "execution_count": 153,
   "id": "569ceabb-917f-49b0-a913-1fff236600bf",
   "metadata": {},
   "outputs": [
    {
     "data": {
      "text/plain": [
       "array([ 0, -1, -2])"
      ]
     },
     "execution_count": 153,
     "metadata": {},
     "output_type": "execute_result"
    }
   ],
   "source": [
    "np.arange(0,-3,-1)"
   ]
  },
  {
   "cell_type": "code",
   "execution_count": 155,
   "id": "7308f5d0-bc12-46b9-bd90-5bf8ebd6d46a",
   "metadata": {},
   "outputs": [
    {
     "ename": "TypeError",
     "evalue": "'float' object cannot be interpreted as an integer",
     "output_type": "error",
     "traceback": [
      "\u001b[0;31m---------------------------------------------------------------------------\u001b[0m",
      "\u001b[0;31mTypeError\u001b[0m                                 Traceback (most recent call last)",
      "Cell \u001b[0;32mIn[155], line 1\u001b[0m\n\u001b[0;32m----> 1\u001b[0m \u001b[38;5;28mlist\u001b[39m(\u001b[38;5;28mrange\u001b[39m(\u001b[38;5;241m0\u001b[39m,\u001b[38;5;241m4\u001b[39m,\u001b[38;5;241m1.5\u001b[39m))\n",
      "\u001b[0;31mTypeError\u001b[0m: 'float' object cannot be interpreted as an integer"
     ]
    }
   ],
   "source": [
    "list(range(0,4,1.5))"
   ]
  },
  {
   "cell_type": "code",
   "execution_count": 165,
   "id": "590db545-8f8a-4bfc-a3ff-be4cbcd2c9ef",
   "metadata": {},
   "outputs": [
    {
     "data": {
      "text/plain": [
       "array([0. , 1.5, 3. ])"
      ]
     },
     "execution_count": 165,
     "metadata": {},
     "output_type": "execute_result"
    }
   ],
   "source": [
    "np.arange(0,3.01,1.5)"
   ]
  },
  {
   "cell_type": "code",
   "execution_count": 182,
   "id": "135ab509-dff8-4db5-ba20-3fb3fac3af25",
   "metadata": {},
   "outputs": [
    {
     "data": {
      "text/plain": [
       "[0]"
      ]
     },
     "execution_count": 182,
     "metadata": {},
     "output_type": "execute_result"
    }
   ],
   "source": [
    "list(range(1))"
   ]
  },
  {
   "cell_type": "code",
   "execution_count": 171,
   "id": "758c2728-e2d2-43ee-9c3e-bf7d7abfd81d",
   "metadata": {},
   "outputs": [
    {
     "data": {
      "text/plain": [
       "array([0. , 0.1, 0.2, 0.3])"
      ]
     },
     "execution_count": 171,
     "metadata": {},
     "output_type": "execute_result"
    }
   ],
   "source": [
    "np.arange(0,0.4,0.1,dtype = float)"
   ]
  },
  {
   "cell_type": "code",
   "execution_count": 180,
   "id": "ecc52cea-b57b-4b14-91e8-202dc24cbd1c",
   "metadata": {},
   "outputs": [
    {
     "data": {
      "text/plain": [
       "array([0. , 1.9])"
      ]
     },
     "execution_count": 180,
     "metadata": {},
     "output_type": "execute_result"
    }
   ],
   "source": [
    "np.arange(0.,3.5,1.9)"
   ]
  },
  {
   "cell_type": "code",
   "execution_count": null,
   "id": "a710bbe8-f554-4006-a642-633b7543bd18",
   "metadata": {},
   "outputs": [],
   "source": []
  },
  {
   "cell_type": "code",
   "execution_count": null,
   "id": "dc1a35b1-183c-42cb-accf-dff06be6f67c",
   "metadata": {},
   "outputs": [],
   "source": []
  },
  {
   "cell_type": "code",
   "execution_count": null,
   "id": "97f4bd6c-a06c-4543-a187-1801155191bc",
   "metadata": {},
   "outputs": [],
   "source": []
  }
 ],
 "metadata": {
  "kernelspec": {
   "display_name": "Python 3 (ipykernel)",
   "language": "python",
   "name": "python3"
  },
  "language_info": {
   "codemirror_mode": {
    "name": "ipython",
    "version": 3
   },
   "file_extension": ".py",
   "mimetype": "text/x-python",
   "name": "python",
   "nbconvert_exporter": "python",
   "pygments_lexer": "ipython3",
   "version": "3.11.5"
  }
 },
 "nbformat": 4,
 "nbformat_minor": 5
}
